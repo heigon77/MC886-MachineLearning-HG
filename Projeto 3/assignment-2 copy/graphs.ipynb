{
 "cells": [
  {
   "cell_type": "code",
   "execution_count": null,
   "source": [
    "from numpy.random import choice\n",
    "import numpy as np\n",
    "import random\n",
    "import matplotlib.pyplot as plt\n",
    "\n",
    "for layout in [\"smallClassic\", \"mediumClassic\", \"originalClassic\"]:\n",
    "        Best = []\n",
    "        Avg = []\n",
    "        Wrst = []\n",
    "        with open('fitness_' + layout + '.txt', 'r') as f:\n",
    "            lines = f.readlines()\n",
    "            for line in lines:\n",
    "                line = line.split()\n",
    "                Best.append(float(line[0]))\n",
    "                Avg.append(float(line[1]))\n",
    "                Wrst.append(float(line[2]))\n",
    "            \n",
    "            x = np.arange(len(lines))\n",
    "           \n",
    "        \n",
    "        plt.plot(x, Best, label = 'Best') \n",
    "        plt.plot(x, Avg, label = 'Average')\n",
    "        plt.plot(x, Wrst, label = 'Worst')\n",
    "        plt.legend()\n",
    "        plt.title(\"Gráfico de Fitness ao longo das gerações\\n* {} *\".format(layout))\n",
    "        plt.xlabel('Geração')\n",
    "        plt.ylabel('Fitness')\n",
    "        plt.show()"
   ],
   "outputs": [],
   "metadata": {}
  }
 ],
 "metadata": {
  "orig_nbformat": 4,
  "language_info": {
   "name": "python"
  }
 },
 "nbformat": 4,
 "nbformat_minor": 2
}