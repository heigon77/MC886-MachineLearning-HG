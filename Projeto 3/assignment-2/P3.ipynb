{
 "cells": [
  {
   "cell_type": "code",
   "execution_count": 1,
   "metadata": {},
   "outputs": [
    {
     "output_type": "stream",
     "name": "stdout",
     "text": [
      "Usage: \n    USAGE:      python pacman.py <options>\n    EXAMPLES:   (1) python pacman.py\n                    - starts an interactive game\n                (2) python pacman.py --layout smallClassic --zoom 2\n                OR  python pacman.py -l smallClassic -z 2\n                    - starts an interactive game on a smaller board, zoomed in\n    \n\nOptions:\n  -h, --help            show this help message and exit\n  -n GAMES, --numGames=GAMES\n                        the number of GAMES to play [Default: 1]\n  -l LAYOUT_FILE, --layout=LAYOUT_FILE\n                        the LAYOUT_FILE from which to load the map layout\n                        [Default: mediumClassic]\n  -p TYPE, --pacman=TYPE\n                        the agent TYPE in the pacmanAgents module to use\n                        [Default: KeyboardAgent]\n  -t, --textGraphics    Display output as text only\n  -q, --quietTextGraphics\n                        Generate minimal output and no graphics\n  -g TYPE, --ghosts=TYPE\n                        the ghost agent TYPE in the ghostAgents module to use\n                        [Default: RandomGhost]\n  -k NUMGHOSTS, --numghosts=NUMGHOSTS\n                        The maximum number of ghosts to use [Default: 4]\n  -z ZOOM, --zoom=ZOOM  Zoom the size of the graphics window [Default: 1.0]\n  -f, --fixRandomSeed   Fixes the random seed to always play the same game\n  -r, --recordActions   Writes game histories to a file (named by the time\n                        they were played)\n  --replay=GAMETOREPLAY\n                        A recorded game file (pickle) to replay\n  -a AGENTARGS, --agentArgs=AGENTARGS\n                        Comma separated values sent to agent. e.g.\n                        \"opt1=val1,opt2,opt3=val3\"\n  -x NUMTRAINING, --numTraining=NUMTRAINING\n                        How many episodes are training (suppresses output)\n                        [Default: 0]\n  --frameTime=FRAMETIME\n                        Time to delay between frames; <0 means keyboard\n                        [Default: 0.1]\n  -c, --catchExceptions\n                        Turns on exception handling and timeouts during games\n  --timeout=TIMEOUT     Maximum length of time an agent can spend computing in\n                        a single game [Default: 30]\n"
     ]
    }
   ],
   "source": [
    "!python pacman.py -h"
   ]
  },
  {
   "cell_type": "code",
   "execution_count": 6,
   "metadata": {},
   "outputs": [
    {
     "output_type": "execute_result",
     "data": {
      "text/plain": [
       "['Pacman died! Score: -571',\n",
       " 'Pacman died! Score: -479',\n",
       " 'Average Score: -525.0',\n",
       " 'Scores:        -571.0, -479.0',\n",
       " 'Win Rate:      0/2 (0.00)',\n",
       " 'Record:        Loss, Loss']"
      ]
     },
     "metadata": {},
     "execution_count": 6
    }
   ],
   "source": [
    "saida = !python pacman.py --layout smallClassic --pacman DumbAgent --numGames 2 --quietTextGraphics\n",
    "saida"
   ]
  },
  {
   "cell_type": "code",
   "execution_count": 7,
   "metadata": {},
   "outputs": [],
   "source": [
    "def filho(p1,p2):\n",
    "    dadOrmom = [False, True]\n",
    "    child = []\n",
    "\n",
    "    cross = choice(dadOrmom, p=[0.5,0.5])\n",
    "\n",
    "    if(cross):\n",
    "        child.append(p1[0])\n",
    "    else:\n",
    "        child.append(p2[0])\n",
    "    \n",
    "\n",
    "    for j in range(1,15):\n",
    "        cross = choice(dadOrmom, p=[0.5,0.5])\n",
    "        if (cross):\n",
    "            for n in p1[j]:\n",
    "                child.append(n)\n",
    "        else:\n",
    "            for n in p2[j]:\n",
    "                child.append(n)\n",
    "    return child\n",
    "    "
   ]
  },
  {
   "cell_type": "code",
   "execution_count": 8,
   "metadata": {},
   "outputs": [],
   "source": [
    "def mutationChild(child):\n",
    "    mutation = [False, True]\n",
    "    \n",
    "    ifMut = choice(mutation, p=[0.75,0.25])\n",
    "    if(ifMut):\n",
    "        child[0] = np.random.uniform(low=0.0, high=5.0)\n",
    "\n",
    "    for i in range(1,56):\n",
    "        ifMut = choice(mutation, p=[0.8,0.2])\n",
    "        if(ifMut):\n",
    "            p1 = np.random.uniform(low=0.0, high=1)\n",
    "            p2 = np.random.uniform(low=0.0, high=(1-p1))\n",
    "            p3 = np.random.uniform(low=0.0, high=(1-p1-p2))\n",
    "            p4 = 1-(p1+p2+p3)\n",
    "\n",
    "            index = i*4\n",
    "\n",
    "            child[index-3] = p1\n",
    "            child[index-2] = p2\n",
    "            child[index-1] = p3\n",
    "            child[index-0] = p4\n",
    "\n",
    "    return child"
   ]
  },
  {
   "cell_type": "code",
   "execution_count": 9,
   "metadata": {},
   "outputs": [],
   "source": [
    "def writeString(child):\n",
    "    string = \"\"\n",
    "    for i in child:\n",
    "        string += str(i)+\" \"\n",
    "    string+=\"\\n\"\n",
    "    return string"
   ]
  },
  {
   "cell_type": "code",
   "execution_count": 10,
   "metadata": {},
   "outputs": [],
   "source": [
    "import numpy as np\n",
    "\n",
    "string = \"\" + str(np.random.uniform(low=0.0, high=5.0))\n",
    "\n",
    "for i in range(55):\n",
    "\n",
    "    p1 = np.random.uniform(low=0.0, high=1)\n",
    "    p2 = np.random.uniform(low=0.0, high=(1-p1))\n",
    "    p3 = np.random.uniform(low=0.0, high=(1-p1-p2))\n",
    "    p4 = 1-(p1+p2+p3)\n",
    "\n",
    "    string += \" \" + str(p1) + \" \" + str(p2) + \" \" + str(p3) + \" \" + str(p4)\n",
    "\n",
    "with open('parameters.txt','w') as f:\n",
    "    f.write(string)\n",
    "\n",
    "\n",
    "\n",
    "for i in range(28):\n",
    "\n",
    "    string = \"\\n\" + str(np.random.uniform(low=0.0, high=5.0))\n",
    "\n",
    "    for i in range(55):\n",
    "\n",
    "        p1 = np.random.uniform(low=0.0, high=1)\n",
    "        p2 = np.random.uniform(low=0.0, high=(1-p1))\n",
    "        p3 = np.random.uniform(low=0.0, high=(1-p1-p2))\n",
    "        p4 = 1-(p1+p2+p3)\n",
    "\n",
    "        string += \" \" + str(p1) + \" \" + str(p2) + \" \" + str(p3) + \" \" + str(p4)\n",
    "            \n",
    "    with open('parameters.txt','a') as f:\n",
    "        f.write(string)"
   ]
  },
  {
   "cell_type": "code",
   "execution_count": 11,
   "metadata": {},
   "outputs": [],
   "source": [
    "from numpy.random import choice\n",
    "import numpy as np\n",
    "population = 28\n",
    "\n",
    "generation = 0\n",
    "with open('generation.txt','w') as f:\n",
    "    f.write(\"\")\n",
    "\n",
    "while(True):\n",
    "\n",
    "    # Run games\n",
    "\n",
    "    with open('results.txt','w') as f:\n",
    "            f.write(\"\")\n",
    "    for i in range(population):\n",
    "\n",
    "        with open('agentNum.txt','w') as f:\n",
    "            f.write(str(i))\n",
    "\n",
    "        saida = !python pacman.py --layout smallClassic --pacman DumbAgent --numGames 5 --quietTextGraphics\n",
    "\n",
    "    allPmt = []\n",
    "    allRes = []\n",
    "    allRes2 = []\n",
    "    inds = []\n",
    "\n",
    "    # Read parameters and \n",
    "    for k in range (population):\n",
    "        with open('parameters.txt') as f:\n",
    "            lines = f.readlines()\n",
    "\n",
    "            pmt = lines[k].split()\n",
    "\n",
    "        for j in range(len(pmt)):\n",
    "            pmt[j] = float(pmt[j])\n",
    "        \n",
    "        allPmt.append(pmt)\n",
    "\n",
    "    # Read results\n",
    "    for k in range (population):\n",
    "        with open('results.txt') as f:\n",
    "            lines = f.readlines()\n",
    "\n",
    "            res = lines[k].split()\n",
    "\n",
    "        for j in range(len(res)):\n",
    "            res[j] = float(res[j])\n",
    "        \n",
    "        allRes.append(res)\n",
    "\n",
    "\n",
    "    # Select the best 2\n",
    "\n",
    "    fitListOrder = []\n",
    "    fitListIndex = []\n",
    "\n",
    "    for k in range (population):\n",
    "        fit = ((55-allRes[k][3])/55) + ((2-allRes[k][4])/2) + (min(allRes[k][5]/300.0,1))\n",
    "        fitListOrder.append(fit)\n",
    "        fitListIndex.append(fit)\n",
    "\n",
    "\n",
    "    fitListOrder.sort()\n",
    "    fitListOrder = fitListOrder[26:]\n",
    "\n",
    "    for k in fitListOrder:\n",
    "        for j in range(len(fitListOrder)):\n",
    "            if (k == fitListOrder[j]):\n",
    "                inds.append(j)\n",
    "    inds = list(dict.fromkeys(inds))\n",
    "    inds = inds[0:2]\n",
    "\n",
    "    with open('parameters.txt','w') as f:\n",
    "        f.write(\"\")\n",
    "\n",
    "\n",
    "    dad = allPmt[inds[0]]\n",
    "    mom = allPmt[inds[1]]\n",
    "\n",
    "    # Divide the genetic\n",
    "\n",
    "    dadDiv = [dad[0],dad[1:17],dad[17:33],dad[33:49],dad[49:65],dad[65:81],dad[81:97],dad[97:113],dad[113:129],dad[129:145],dad[145:161],dad[161:177],dad[177:193],dad[193:209],dad[209:221]]\n",
    "\n",
    "    momDiv = [mom[0],mom[1:17],mom[17:33],mom[33:49],mom[49:65],mom[65:81],mom[81:97],mom[97:113],mom[113:129],mom[129:145],mom[145:161],mom[161:177],mom[177:193],mom[193:209],mom[209:221]]\n",
    "\n",
    "\n",
    "    # CrossOver\n",
    "\n",
    "    child1 = filho(dadDiv,momDiv)\n",
    "    child2 = filho(momDiv,dadDiv)\n",
    "    child3 = filho(dadDiv,momDiv)\n",
    "    child4 = filho(momDiv,dadDiv)\n",
    "    child5 = filho(dadDiv,momDiv)\n",
    "    child6 = filho(momDiv,dadDiv)\n",
    "    child7 = filho(dadDiv,momDiv)\n",
    "    child8 = filho(momDiv,dadDiv)\n",
    "    child9 = filho(dadDiv,momDiv)\n",
    "    child10 = filho(momDiv,dadDiv)\n",
    "    child11 = filho(dadDiv,momDiv)\n",
    "    child12 = filho(momDiv,dadDiv)\n",
    "    child13 = filho(dadDiv,momDiv)\n",
    "    child14 = filho(momDiv,dadDiv)\n",
    "\n",
    "    # Mutation\n",
    "    child15 = mutationChild(child1)\n",
    "    child16 = mutationChild(child2)\n",
    "    child17 = mutationChild(child3)\n",
    "    child18 = mutationChild(child4)\n",
    "    child19 = mutationChild(child5)\n",
    "    child20 = mutationChild(child6)\n",
    "    child21 = mutationChild(child7)\n",
    "    child22 = mutationChild(child8)\n",
    "    child23 = mutationChild(child9)\n",
    "    child24 = mutationChild(child10)\n",
    "    child25 = mutationChild(child11)\n",
    "    child26 = mutationChild(child12)\n",
    "    child27 = mutationChild(child13)\n",
    "    child28 = mutationChild(child14)\n",
    "\n",
    "    with open('parameters.txt','a') as f:\n",
    "        f.write(writeString(child1))\n",
    "        f.write(writeString(child2))\n",
    "        f.write(writeString(child3))\n",
    "        f.write(writeString(child4))\n",
    "        f.write(writeString(child5))\n",
    "        f.write(writeString(child6))\n",
    "        f.write(writeString(child7))\n",
    "        f.write(writeString(child8))\n",
    "        f.write(writeString(child9))\n",
    "        f.write(writeString(child10))\n",
    "        f.write(writeString(child11))\n",
    "        f.write(writeString(child12))\n",
    "        f.write(writeString(child13))\n",
    "        f.write(writeString(child14))\n",
    "        f.write(writeString(child15))\n",
    "        f.write(writeString(child16))\n",
    "        f.write(writeString(child17))\n",
    "        f.write(writeString(child18))\n",
    "        f.write(writeString(child19))\n",
    "        f.write(writeString(child20))\n",
    "        f.write(writeString(child21))\n",
    "        f.write(writeString(child22))\n",
    "        f.write(writeString(child23))\n",
    "        f.write(writeString(child24))\n",
    "        f.write(writeString(child25))\n",
    "        f.write(writeString(child26))\n",
    "        f.write(writeString(child27))\n",
    "        f.write(writeString(child28))\n",
    "\n",
    "    with open('generation.txt','a') as f:\n",
    "        f.write(str(generation)+\"\\n\")\n",
    "    generation+=1\n",
    "\n"
   ]
  },
  {
   "cell_type": "code",
   "execution_count": 3,
   "metadata": {},
   "outputs": [
    {
     "output_type": "stream",
     "name": "stdout",
     "text": [
      "0.636816234028532 0.3117043505364573 0.049912054377277026 0.001567361057733585\n0.19015176858173755 0.16038224486884584 0.639039068226184 0.010426918323232615\n\n0.9109087989169963 0.08547627485512249 4.0587127456324394e-05 0.003574339100424928\n0.19015176858173755 0.16038224486884584 0.639039068226184 0.010426918323232615\n\n0.07100528390666794 0.10352266804466116 0.41996416666072256 0.40550788138794835\n0.19015176858173755 0.16038224486884584 0.639039068226184 0.010426918323232615\n\n0.9109087989169963 0.08547627485512249 4.0587127456324394e-05 0.003574339100424928\n0.19015176858173755 0.16038224486884584 0.639039068226184 0.010426918323232615\n\n0.9109087989169963 0.08547627485512249 4.0587127456324394e-05 0.003574339100424928\n0.19015176858173755 0.16038224486884584 0.639039068226184 0.010426918323232615\n\n0.636816234028532 0.3117043505364573 0.049912054377277026 0.001567361057733585\n0.19015176858173755 0.16038224486884584 0.639039068226184 0.010426918323232615\n\n0.37701759301157456 0.09444151307356786 0.07324645819858502 0.4552944357162726\n0.19015176858173755 0.16038224486884584 0.639039068226184 0.010426918323232615\n\n0.636816234028532 0.3117043505364573 0.049912054377277026 0.001567361057733585\n0.19015176858173755 0.16038224486884584 0.639039068226184 0.010426918323232615\n\n0.636816234028532 0.3117043505364573 0.049912054377277026 0.001567361057733585\n0.19015176858173755 0.16038224486884584 0.639039068226184 0.010426918323232615\n\n0.9109087989169963 0.08547627485512249 4.0587127456324394e-05 0.003574339100424928\n0.19015176858173755 0.16038224486884584 0.639039068226184 0.010426918323232615\n\n0.9109087989169963 0.08547627485512249 4.0587127456324394e-05 0.003574339100424928\n0.19015176858173755 0.16038224486884584 0.639039068226184 0.010426918323232615\n\n0.636816234028532 0.3117043505364573 0.049912054377277026 0.001567361057733585\n0.19015176858173755 0.16038224486884584 0.639039068226184 0.010426918323232615\n\n0.9109087989169963 0.08547627485512249 4.0587127456324394e-05 0.003574339100424928\n0.19015176858173755 0.16038224486884584 0.639039068226184 0.010426918323232615\n\n0.636816234028532 0.3117043505364573 0.049912054377277026 0.001567361057733585\n0.19015176858173755 0.16038224486884584 0.639039068226184 0.010426918323232615\n\n0.636816234028532 0.3117043505364573 0.049912054377277026 0.001567361057733585\n0.19015176858173755 0.16038224486884584 0.639039068226184 0.010426918323232615\n\n0.9109087989169963 0.08547627485512249 4.0587127456324394e-05 0.003574339100424928\n0.19015176858173755 0.16038224486884584 0.639039068226184 0.010426918323232615\n\n0.07100528390666794 0.10352266804466116 0.41996416666072256 0.40550788138794835\n0.19015176858173755 0.16038224486884584 0.639039068226184 0.010426918323232615\n\n0.9109087989169963 0.08547627485512249 4.0587127456324394e-05 0.003574339100424928\n0.19015176858173755 0.16038224486884584 0.639039068226184 0.010426918323232615\n\n0.9109087989169963 0.08547627485512249 4.0587127456324394e-05 0.003574339100424928\n0.19015176858173755 0.16038224486884584 0.639039068226184 0.010426918323232615\n\n0.636816234028532 0.3117043505364573 0.049912054377277026 0.001567361057733585\n0.19015176858173755 0.16038224486884584 0.639039068226184 0.010426918323232615\n\n0.37701759301157456 0.09444151307356786 0.07324645819858502 0.4552944357162726\n0.19015176858173755 0.16038224486884584 0.639039068226184 0.010426918323232615\n\n0.636816234028532 0.3117043505364573 0.049912054377277026 0.001567361057733585\n0.19015176858173755 0.16038224486884584 0.639039068226184 0.010426918323232615\n\n0.636816234028532 0.3117043505364573 0.049912054377277026 0.001567361057733585\n0.19015176858173755 0.16038224486884584 0.639039068226184 0.010426918323232615\n\n0.9109087989169963 0.08547627485512249 4.0587127456324394e-05 0.003574339100424928\n0.19015176858173755 0.16038224486884584 0.639039068226184 0.010426918323232615\n\n0.9109087989169963 0.08547627485512249 4.0587127456324394e-05 0.003574339100424928\n0.19015176858173755 0.16038224486884584 0.639039068226184 0.010426918323232615\n\n0.636816234028532 0.3117043505364573 0.049912054377277026 0.001567361057733585\n0.19015176858173755 0.16038224486884584 0.639039068226184 0.010426918323232615\n\n0.9109087989169963 0.08547627485512249 4.0587127456324394e-05 0.003574339100424928\n0.19015176858173755 0.16038224486884584 0.639039068226184 0.010426918323232615\n\n0.636816234028532 0.3117043505364573 0.049912054377277026 0.001567361057733585\n0.19015176858173755 0.16038224486884584 0.639039068226184 0.010426918323232615\n\n"
     ]
    }
   ],
   "source": [
    "allPmt = []\n",
    "for k in range (28):\n",
    "    with open('parameters.txt') as f:\n",
    "        lines = f.readlines()\n",
    "\n",
    "        pmt = lines[k].split()\n",
    "\n",
    "    for j in range(len(pmt)):\n",
    "        pmt[j] = float(pmt[j])\n",
    "    \n",
    "    allPmt.append(pmt)\n",
    "\n",
    "for k in range (28):\n",
    "    print(allPmt[k][81],allPmt[k][82],allPmt[k][83],allPmt[k][84])\n",
    "    print(allPmt[k][197],allPmt[k][198],allPmt[k][199],allPmt[k][200])\n",
    "    print()"
   ]
  },
  {
   "cell_type": "code",
   "execution_count": 251,
   "metadata": {},
   "outputs": [
    {
     "output_type": "execute_result",
     "data": {
      "text/plain": [
       "[]"
      ]
     },
     "metadata": {},
     "execution_count": 251
    }
   ],
   "source": [
    "saida"
   ]
  },
  {
   "cell_type": "code",
   "execution_count": 161,
   "metadata": {},
   "outputs": [
    {
     "output_type": "stream",
     "name": "stdout",
     "text": [
      "Pacman emerges victorious! Score: 1151\n",
      "Average Score: 1151.0\n",
      "Scores:        1151.0\n",
      "Win Rate:      1/1 (1.00)\n",
      "Record:        Win\n"
     ]
    }
   ],
   "source": [
    "!python pacman.py --layout smallClassic"
   ]
  },
  {
   "cell_type": "code",
   "execution_count": 34,
   "metadata": {},
   "outputs": [
    {
     "output_type": "stream",
     "name": "stdout",
     "text": [
      "<class 'numpy.int64'>\n"
     ]
    }
   ],
   "source": [
    "from numpy.random import choice\n",
    "\n",
    "sampleList = [100, 200, 300, 400, 500]\n",
    "randomNumberList = choice(sampleList, p=[0.05, 0.1, 0.15, 0.20, 0.5])\n",
    "\n",
    "print(type(randomNumberList))\n"
   ]
  },
  {
   "cell_type": "code",
   "execution_count": 58,
   "metadata": {},
   "outputs": [],
   "source": [
    "string = \"2\"\n",
    "\n",
    "for i in range(24):\n",
    "    string += \" 0.1 0.2 0.2 0.5\"\n",
    "\n",
    "with open('parameters.txt','w') as f:\n",
    "    f.write(string)\n",
    "\n",
    "string = \"\\n3\"\n",
    "\n",
    "for i in range(24):\n",
    "    string += \" 0.1 0.2 0.2 0.5\"\n",
    "    \n",
    "with open('parameters.txt','a') as f:\n",
    "    f.write(string)\n",
    "        "
   ]
  },
  {
   "cell_type": "code",
   "execution_count": 123,
   "metadata": {},
   "outputs": [
    {
     "output_type": "stream",
     "name": "stdout",
     "text": [
      "0.18497919491323178 0.6493838779722232 0.15631203666527588 0.009324890449269096\n1.0\n"
     ]
    }
   ],
   "source": [
    "import numpy as np\n",
    "p1 = np.random.uniform(low=0.0, high=1)\n",
    "p2 = np.random.uniform(low=0.0, high=(1-p1))\n",
    "p3 = np.random.uniform(low=0.0, high=(1-p1-p2))\n",
    "p4 = 1-(p1+p2+p3)\n",
    "\n",
    "print(p1,p2,p3,p4)\n",
    "print(p1+p2+p3+p4)"
   ]
  },
  {
   "cell_type": "code",
   "execution_count": 137,
   "metadata": {},
   "outputs": [
    {
     "output_type": "execute_result",
     "data": {
      "text/plain": [
       "2.7725219673670503"
      ]
     },
     "metadata": {},
     "execution_count": 137
    }
   ],
   "source": [
    "np.random.uniform(low=0.0, high=5.0)"
   ]
  },
  {
   "source": [
    "# CrossOver"
   ],
   "cell_type": "markdown",
   "metadata": {}
  },
  {
   "cell_type": "code",
   "execution_count": 235,
   "metadata": {},
   "outputs": [
    {
     "output_type": "error",
     "ename": "IndexError",
     "evalue": "list index out of range",
     "traceback": [
      "\u001b[0;31m---------------------------------------------------------------------------\u001b[0m",
      "\u001b[0;31mIndexError\u001b[0m                                Traceback (most recent call last)",
      "\u001b[0;32m<ipython-input-235-e1ee1b5ed232>\u001b[0m in \u001b[0;36m<module>\u001b[0;34m\u001b[0m\n\u001b[1;32m     19\u001b[0m         \u001b[0mlines\u001b[0m \u001b[0;34m=\u001b[0m \u001b[0mf\u001b[0m\u001b[0;34m.\u001b[0m\u001b[0mreadlines\u001b[0m\u001b[0;34m(\u001b[0m\u001b[0;34m)\u001b[0m\u001b[0;34m\u001b[0m\u001b[0;34m\u001b[0m\u001b[0m\n\u001b[1;32m     20\u001b[0m \u001b[0;34m\u001b[0m\u001b[0m\n\u001b[0;32m---> 21\u001b[0;31m         \u001b[0mres\u001b[0m \u001b[0;34m=\u001b[0m \u001b[0mlines\u001b[0m\u001b[0;34m[\u001b[0m\u001b[0mi\u001b[0m\u001b[0;34m]\u001b[0m\u001b[0;34m.\u001b[0m\u001b[0msplit\u001b[0m\u001b[0;34m(\u001b[0m\u001b[0;34m)\u001b[0m\u001b[0;34m\u001b[0m\u001b[0;34m\u001b[0m\u001b[0m\n\u001b[0m\u001b[1;32m     22\u001b[0m \u001b[0;34m\u001b[0m\u001b[0m\n\u001b[1;32m     23\u001b[0m     \u001b[0;32mfor\u001b[0m \u001b[0mj\u001b[0m \u001b[0;32min\u001b[0m \u001b[0mrange\u001b[0m\u001b[0;34m(\u001b[0m\u001b[0mlen\u001b[0m\u001b[0;34m(\u001b[0m\u001b[0mres\u001b[0m\u001b[0;34m)\u001b[0m\u001b[0;34m)\u001b[0m\u001b[0;34m:\u001b[0m\u001b[0;34m\u001b[0m\u001b[0;34m\u001b[0m\u001b[0m\n",
      "\u001b[0;31mIndexError\u001b[0m: list index out of range"
     ]
    }
   ],
   "source": [
    "from numpy.random import choice\n",
    "allPmt = []\n",
    "allRes = []\n",
    "allRes2 = []\n",
    "inds = []\n",
    "for i in range (28):\n",
    "    with open('parameters.txt') as f:\n",
    "        lines = f.readlines()\n",
    "\n",
    "        pmt = lines[i].split()\n",
    "\n",
    "    for j in range(len(pmt)):\n",
    "        pmt[j] = float(pmt[j])\n",
    "    \n",
    "    allPmt.append(pmt)\n",
    "\n",
    "for i in range (28):\n",
    "    with open('results.txt') as f:\n",
    "        lines = f.readlines()\n",
    "\n",
    "        res = lines[i].split()\n",
    "\n",
    "    for j in range(len(res)):\n",
    "        res[j] = float(res[j])\n",
    "    \n",
    "    allRes.append(res)\n",
    "    allRes2.append(res)\n",
    "\n",
    "allRes2.sort()\n",
    "allRes2 = allRes2[14:]\n",
    "\n",
    "for i in allRes2:\n",
    "    for j in range(len(allRes)):\n",
    "        if (i[0] == allRes[j][0]):\n",
    "            inds.append(j)\n",
    "inds = list(dict.fromkeys(inds))"
   ]
  },
  {
   "cell_type": "code",
   "execution_count": 210,
   "metadata": {},
   "outputs": [
    {
     "output_type": "execute_result",
     "data": {
      "text/plain": [
       "[[-478.5, 0.0, 0.0],\n",
       " [-478.0, 0.0, 0.0],\n",
       " [-471.0, 0.0, 0.0],\n",
       " [-471.0, 0.0, 0.0],\n",
       " [-468.0, 0.0, 0.0],\n",
       " [-466.5, 0.0, 0.0],\n",
       " [-465.5, 0.0, 0.0],\n",
       " [-461.5, 0.0, 0.0],\n",
       " [-459.0, 0.0, 0.0],\n",
       " [-458.0, 0.0, 0.0],\n",
       " [-450.0, 0.0, 0.0],\n",
       " [-439.0, 0.0, 0.0],\n",
       " [-436.5, 0.0, 0.0],\n",
       " [-383.5, 0.0, 0.0]]"
      ]
     },
     "metadata": {},
     "execution_count": 210
    }
   ],
   "source": [
    "allRes2"
   ]
  },
  {
   "cell_type": "code",
   "execution_count": 211,
   "metadata": {},
   "outputs": [
    {
     "output_type": "execute_result",
     "data": {
      "text/plain": [
       "[26, 10, 18, 23, 17, 19, 1, 22, 21, 14, 11, 25, 2, 7]"
      ]
     },
     "metadata": {},
     "execution_count": 211
    }
   ],
   "source": [
    "inds"
   ]
  },
  {
   "cell_type": "code",
   "execution_count": 234,
   "metadata": {},
   "outputs": [
    {
     "output_type": "error",
     "ename": "IndexError",
     "evalue": "list index out of range",
     "traceback": [
      "\u001b[0;31m---------------------------------------------------------------------------\u001b[0m",
      "\u001b[0;31mIndexError\u001b[0m                                Traceback (most recent call last)",
      "\u001b[0;32m<ipython-input-234-f50fbaf21019>\u001b[0m in \u001b[0;36m<module>\u001b[0;34m\u001b[0m\n\u001b[1;32m      6\u001b[0m \u001b[0;32mfor\u001b[0m \u001b[0mi\u001b[0m \u001b[0;32min\u001b[0m \u001b[0mrange\u001b[0m\u001b[0;34m(\u001b[0m\u001b[0;36m7\u001b[0m\u001b[0;34m)\u001b[0m\u001b[0;34m:\u001b[0m\u001b[0;34m\u001b[0m\u001b[0;34m\u001b[0m\u001b[0m\n\u001b[1;32m      7\u001b[0m \u001b[0;34m\u001b[0m\u001b[0m\n\u001b[0;32m----> 8\u001b[0;31m     \u001b[0mdad\u001b[0m \u001b[0;34m=\u001b[0m \u001b[0mallPmt\u001b[0m\u001b[0;34m[\u001b[0m\u001b[0minds\u001b[0m\u001b[0;34m[\u001b[0m\u001b[0mbeg\u001b[0m\u001b[0;34m]\u001b[0m\u001b[0;34m]\u001b[0m\u001b[0;34m\u001b[0m\u001b[0;34m\u001b[0m\u001b[0m\n\u001b[0m\u001b[1;32m      9\u001b[0m     \u001b[0mmom\u001b[0m \u001b[0;34m=\u001b[0m \u001b[0mallPmt\u001b[0m\u001b[0;34m[\u001b[0m\u001b[0minds\u001b[0m\u001b[0;34m[\u001b[0m\u001b[0mend\u001b[0m\u001b[0;34m]\u001b[0m\u001b[0;34m]\u001b[0m\u001b[0;34m\u001b[0m\u001b[0;34m\u001b[0m\u001b[0m\n\u001b[1;32m     10\u001b[0m \u001b[0;34m\u001b[0m\u001b[0m\n",
      "\u001b[0;31mIndexError\u001b[0m: list index out of range"
     ]
    }
   ],
   "source": [
    "from numpy.random import choice\n",
    "nextGen = []\n",
    "beg = 0\n",
    "end = len(inds)-1\n",
    "mutation = [False, True]\n",
    "for i in range(7):\n",
    "\n",
    "    dad = allPmt[inds[beg]]\n",
    "    mom = allPmt[inds[end]]\n",
    "\n",
    "    child1 = []\n",
    "    child2 = []\n",
    "    child3 = []\n",
    "    child4 = []\n",
    "\n",
    "    child1.append(dad[0])\n",
    "    for j in range(1,33):\n",
    "        child1.append(mom[j])\n",
    "    for j in range(33,65):\n",
    "        child1.append(dad[j])\n",
    "    for j in range(65,97):\n",
    "        child1.append(mom[j])\n",
    "    \n",
    "    ifMut = choice(mutation, p=[0.9, 0.1])\n",
    "    if(ifMut):\n",
    "        child1[0] = np.random.uniform(low=0.0, high=5.0)\n",
    "    \n",
    "    for i in range(1,25):\n",
    "        np.random.uniform(low=0.0, high=5.0)\n",
    "\n",
    "        if(ifMut):\n",
    "            p1 = np.random.uniform(low=0.0, high=1)\n",
    "            p2 = np.random.uniform(low=0.0, high=(1-p1))\n",
    "            p3 = np.random.uniform(low=0.0, high=(1-p1-p2))\n",
    "            p4 = 1-(p1+p2+p3)\n",
    "\n",
    "            index = i*4\n",
    "            child1[index-3] = p1\n",
    "            child1[index-2] = p2\n",
    "            child1[index-1] = p3\n",
    "            child1[index-0] = p4\n",
    "    \n",
    "    child2.append(mom[0])\n",
    "    for j in range(1,33):\n",
    "        child2.append(dad[j])\n",
    "    for j in range(33,65):\n",
    "        child2.append(mom[j])\n",
    "    for j in range(65,97):\n",
    "        child2.append(dad[j])\n",
    "\n",
    "    ifMut = choice(mutation, p=[0.9, 0.1])\n",
    "    if(ifMut):\n",
    "        child2[0] = np.random.uniform(low=0.0, high=5.0)\n",
    "    \n",
    "    for i in range(1,25):\n",
    "        np.random.uniform(low=0.0, high=5.0)\n",
    "\n",
    "        if(ifMut):\n",
    "            p1 = np.random.uniform(low=0.0, high=1)\n",
    "            p2 = np.random.uniform(low=0.0, high=(1-p1))\n",
    "            p3 = np.random.uniform(low=0.0, high=(1-p1-p2))\n",
    "            p4 = 1-(p1+p2+p3)\n",
    "\n",
    "            index = i*4\n",
    "            child2[index-3] = p1\n",
    "            child2[index-2] = p2\n",
    "            child2[index-1] = p3\n",
    "            child2[index-0] = p4\n",
    "\n",
    "    for j in range(0,33):\n",
    "        child3.append(dad[j])\n",
    "    for j in range(33,97):\n",
    "        child3.append(mom[j])\n",
    "\n",
    "    ifMut = choice(mutation, p=[0.9, 0.1])\n",
    "    if(ifMut):\n",
    "        child3[0] = np.random.uniform(low=0.0, high=5.0)\n",
    "    \n",
    "    for i in range(1,25):\n",
    "        np.random.uniform(low=0.0, high=5.0)\n",
    "\n",
    "        if(ifMut):\n",
    "            p1 = np.random.uniform(low=0.0, high=1)\n",
    "            p2 = np.random.uniform(low=0.0, high=(1-p1))\n",
    "            p3 = np.random.uniform(low=0.0, high=(1-p1-p2))\n",
    "            p4 = 1-(p1+p2+p3)\n",
    "\n",
    "            index = i*4\n",
    "            child3[index-3] = p1\n",
    "            child3[index-2] = p2\n",
    "            child3[index-1] = p3\n",
    "            child3[index-0] = p4\n",
    "\n",
    "    for j in range(0,33):\n",
    "        child4.append(mom[j])\n",
    "    for j in range(33,97):\n",
    "        child4.append(dad[j])\n",
    "\n",
    "    \n",
    "    ifMut = choice(mutation, p=[0.9, 0.1])\n",
    "    if(ifMut):\n",
    "        child4[0] = np.random.uniform(low=0.0, high=5.0)\n",
    "    \n",
    "    for i in range(1,25):\n",
    "        np.random.uniform(low=0.0, high=5.0)\n",
    "\n",
    "        if(ifMut):\n",
    "            p1 = np.random.uniform(low=0.0, high=1)\n",
    "            p2 = np.random.uniform(low=0.0, high=(1-p1))\n",
    "            p3 = np.random.uniform(low=0.0, high=(1-p1-p2))\n",
    "            p4 = 1-(p1+p2+p3)\n",
    "\n",
    "            index = i*4\n",
    "            child4[index-3] = p1\n",
    "            child4[index-2] = p2\n",
    "            child4[index-1] = p3\n",
    "            child4[index-0] = p4\n",
    "\n",
    "    \n",
    "\n",
    "    \n",
    "    string1 = \"\"\n",
    "    string2 = \"\"\n",
    "    string3 = \"\"\n",
    "    string4 = \"\"\n",
    "\n",
    "    for i in child1:\n",
    "        string1 += str(i) + \" \"\n",
    "    string1 +=\"\\n\"\n",
    "\n",
    "    for i in child2:\n",
    "        string2 += str(i) + \" \"\n",
    "    string2 +=\"\\n\"\n",
    "\n",
    "    for i in child3:\n",
    "        string3 += str(i) + \" \"\n",
    "    string3 +=\"\\n\"\n",
    "\n",
    "    for i in child4:\n",
    "        string4 += str(i) + \" \"\n",
    "    string4 +=\"\\n\"\n",
    "\n",
    "    with open('parameters.txt','a') as f:\n",
    "        f.write(string1)\n",
    "        f.write(string2)\n",
    "        f.write(string3)\n",
    "        f.write(string4)\n",
    "    \n",
    "    beg+=1\n",
    "    end-=1\n"
   ]
  },
  {
   "cell_type": "code",
   "execution_count": 4,
   "metadata": {},
   "outputs": [
    {
     "output_type": "stream",
     "name": "stdout",
     "text": [
      "221\n"
     ]
    }
   ],
   "source": [
    "with open('parameters.txt') as f:\n",
    "    lines = f.readlines()\n",
    "\n",
    "    pmt = lines[5].split()\n",
    "\n",
    "for j in range(len(pmt)):\n",
    "    pmt[j] = float(pmt[j])\n",
    "\n",
    "print(len(pmt))"
   ]
  },
  {
   "cell_type": "code",
   "execution_count": null,
   "metadata": {},
   "outputs": [],
   "source": []
  }
 ],
 "metadata": {
  "kernelspec": {
   "name": "python3",
   "display_name": "Python 3.8.5 64-bit"
  },
  "language_info": {
   "codemirror_mode": {
    "name": "ipython",
    "version": 2
   },
   "file_extension": ".py",
   "mimetype": "text/x-python",
   "name": "python",
   "nbconvert_exporter": "python",
   "pygments_lexer": "ipython2",
   "version": "3.8.5"
  },
  "interpreter": {
   "hash": "916dbcbb3f70747c44a77c7bcd40155683ae19c65e1c03b4aa3499c5328201f1"
  }
 },
 "nbformat": 4,
 "nbformat_minor": 2
}