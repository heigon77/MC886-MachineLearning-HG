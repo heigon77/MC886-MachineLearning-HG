{
 "cells": [
  {
   "cell_type": "code",
   "execution_count": 203,
   "metadata": {},
   "outputs": [
    {
     "output_type": "stream",
     "name": "stdout",
     "text": [
      "['Pacman died! Score: -396', 'Pacman died! Score: -394', 'Average Score: -395.0', 'Scores:        -396.0, -394.0', 'Win Rate:      0/2 (0.00)', 'Record:        Loss, Loss']\n",
      "['Pacman died! Score: -383', 'Pacman died! Score: -408', 'Average Score: -395.5', 'Scores:        -383.0, -408.0', 'Win Rate:      0/2 (0.00)', 'Record:        Loss, Loss']\n",
      "['Pacman died! Score: -478', 'Pacman died! Score: -451', 'Average Score: -464.5', 'Scores:        -478.0, -451.0', 'Win Rate:      0/2 (0.00)', 'Record:        Loss, Loss']\n"
     ]
    }
   ],
   "source": [
    "\n",
    "population = 3\n",
    "\n",
    "for i in range(population):\n",
    "\n",
    "    with open('agentNum.txt','w') as f:\n",
    "        f.write(str(i))\n",
    "\n",
    "    res = !python pacman.py --layout smallClassic --pacman DumbAgent --numGames 2\n",
    "    print(res)\n"
   ]
  },
  {
   "cell_type": "code",
   "execution_count": 204,
   "metadata": {},
   "outputs": [
    {
     "output_type": "execute_result",
     "data": {
      "text/plain": [
       "['Pacman died! Score: -478',\n",
       " 'Pacman died! Score: -451',\n",
       " 'Average Score: -464.5',\n",
       " 'Scores:        -478.0, -451.0',\n",
       " 'Win Rate:      0/2 (0.00)',\n",
       " 'Record:        Loss, Loss']"
      ]
     },
     "metadata": {},
     "execution_count": 204
    }
   ],
   "source": [
    "res"
   ]
  },
  {
   "cell_type": "code",
   "execution_count": null,
   "metadata": {},
   "outputs": [],
   "source": []
  }
 ],
 "metadata": {
  "kernelspec": {
   "name": "python3",
   "display_name": "Python 3.8.5 64-bit"
  },
  "language_info": {
   "codemirror_mode": {
    "name": "ipython",
    "version": 2
   },
   "file_extension": ".py",
   "mimetype": "text/x-python",
   "name": "python",
   "nbconvert_exporter": "python",
   "pygments_lexer": "ipython2",
   "version": "3.8.5"
  },
  "interpreter": {
   "hash": "916dbcbb3f70747c44a77c7bcd40155683ae19c65e1c03b4aa3499c5328201f1"
  }
 },
 "nbformat": 4,
 "nbformat_minor": 2
}