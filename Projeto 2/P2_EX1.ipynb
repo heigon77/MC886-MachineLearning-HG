{
 "metadata": {
  "language_info": {
   "codemirror_mode": {
    "name": "ipython",
    "version": 3
   },
   "file_extension": ".py",
   "mimetype": "text/x-python",
   "name": "python",
   "nbconvert_exporter": "python",
   "pygments_lexer": "ipython3",
   "version": "3.9.0"
  },
  "orig_nbformat": 2,
  "kernelspec": {
   "name": "python390jvsc74a57bd01836012103c67e819a23e4734bf3459f03aa3ddd3450d92a135c42dd7ae4103a",
   "display_name": "Python 3.9.0 64-bit"
  },
  "metadata": {
   "interpreter": {
    "hash": "1836012103c67e819a23e4734bf3459f03aa3ddd3450d92a135c42dd7ae4103a"
   }
  }
 },
 "nbformat": 4,
 "nbformat_minor": 2,
 "cells": [
  {
   "source": [
    "Heigon Soldera 217638\n",
    "Rafael Galib 204904"
   ],
   "cell_type": "markdown",
   "metadata": {}
  },
  {
   "source": [
    "# Introdução\n",
    "\n",
    "Para cada chute nos foi fornecido um arquivo .dat com leituras de 20 pontos representados\n",
    "por suas coordenadas X, Y e Z. Para cada chute iremos encontrar uma regressão que descreva X em função de Y, para então encontrar uma regressão para Z em função de X e Y.\n",
    "Em cada regressão iremos calcular a curva que melhor se ajusta aos dados tendo como referência os valores da função custo associada à descida de gradiente do polinômio a ser estimado."
   ],
   "cell_type": "markdown",
   "metadata": {}
  },
  {
   "source": [
    "# Regressão linear univariada\n",
    "\n",
    "Para o cálculo de Y em função de X para cada chute, iremos utilizar do seguinte:"
   ],
   "cell_type": "markdown",
   "metadata": {}
  },
  {
   "source": [
    "## Hipótese\n",
    "## $h_{\\theta}(y) = x = \\theta_0 + \\theta_1 y$\n",
    "\n",
    "\n",
    "## Função de Custo \n",
    "## $J(\\theta) = \\frac{1}{2m} \\sum^m_{i=1} (h_{\\theta} - x)^2 $\n",
    "\n",
    "\n",
    "## Derivadas  \n",
    "## $ \\frac{\\partial}{\\partial \\theta_0} = \\frac{1}{m} \\sum^m_{i=1} (h_{\\theta} - x) \\times 1 $ \n",
    "## $ \\frac{\\partial}{\\partial \\theta_1} = \\frac{1}{m} \\sum^m_{i=1} (h_{\\theta} - x) \\times y $\n",
    "  \n",
    "\n",
    "## Atualização dos $\\theta$ \n",
    "## $\\theta_{0} := \\theta_{0} - \\alpha \\frac{1}{m} \\sum^m_{i=1} (h_{\\theta} - x) \\times 1 $ \n",
    "## $\\theta_{1} := \\theta_{1} - \\alpha \\frac{1}{m} \\sum^m_{i=1} (h_{\\theta} - x) \\times y $"
   ],
   "cell_type": "markdown",
   "metadata": {}
  },
  {
   "source": [
    "# Definição da função de regressão\n",
    "Aqui utilizaremos todas as equações supracitadas para, ao retorno da função, termos os valores \n",
    "calculados pela função custo, assim como os novos valores de X a partir dos pontos Y da leitura, que nos servirão para calcular o MRS. Também iremos criar n valores para Y de forma a atribuir valores de X estimados para serem plotados."
   ],
   "cell_type": "markdown",
   "metadata": {}
  },
  {
   "cell_type": "code",
   "execution_count": 92,
   "metadata": {},
   "outputs": [],
   "source": [
    "def LinRegUni(t0A,t1A,alpha,m,X,Y,Jep):\n",
    "\n",
    "    def h(t0,t1,y):     # Def da função hipótese\n",
    "        x = t0 + t1*y \n",
    "        return x\n",
    "\n",
    "    def Cost(t0,t1,X,Y,m):  #Def da função custo\n",
    "        soma = 0\n",
    "        for i in range(m):\n",
    "            soma += (h(t0,t1,Y[i]) - X[i])**2\n",
    "        value = (1/(2*m)) * soma\n",
    "        return value\n",
    "\n",
    "    jA = Cost(t0A,t1A,X,Y,m)\n",
    "\n",
    "    listJ = [jA]\n",
    "    delJ = Jep + 1\n",
    "    \n",
    "    while(delJ > Jep):  # Aqui iteramos os valores de theta até encontrarmos uma diferença pequena\n",
    "                        #atribuida por argumento\n",
    "        soma = 0\n",
    "        for i in range(m):\n",
    "            soma += (h(t0A,t1A, Y[i]) - X[i]) * 1\n",
    "        t0N = t0A - (alpha/m) * soma\n",
    "                                            # Calculos dos novos thetas\n",
    "        soma = 0\n",
    "        for i in range(m):\n",
    "            soma += (h(t0A,t1A,Y[i]) - X[i]) * Y[i]\n",
    "        t1N = t1A - (alpha/m) * soma\n",
    "\n",
    "        jN = Cost(t0N,t1N,X,Y,m)\n",
    "        listJ.append(jN)\n",
    "\n",
    "        delJ= abs(jN - jA)\n",
    "                                    \n",
    "        t0A = t0N\n",
    "        t1A = t1N\n",
    "        jA = jN\n",
    "\n",
    "    newX = []\n",
    "    for i in range(m):  # Aqui calculamos novos valores de X com base nos Y da entrada\n",
    "        newX.append(h(t0N,t1N,Y[i]))\n",
    "    \n",
    "    \n",
    "    y = 2.1     # Aqui traçamos a partir do ponto do diagrama da atividade, n valores de Y e\n",
    "                #calculamos seus respectivos X\n",
    "    preX = []\n",
    "    preY = []\n",
    "    while(y>=0):\n",
    "        preX.append(h(t0N,t1N,y))\n",
    "        preY.append(y)\n",
    "        y-= 0.05\n",
    "\n",
    "    soma = 0\n",
    "    for j in range(m):  # Calculo do MSR\n",
    "        soma += (newX[j] - X[j])**2\n",
    "    msr = soma/m\n",
    " \n",
    "    return listJ,newX,preX,preY,msr"
   ]
  },
  {
   "source": [
    "# Regressão polinomial univariada\n",
    "\n",
    "Tal qual a linear, desta vez utilizaremos:"
   ],
   "cell_type": "markdown",
   "metadata": {}
  },
  {
   "source": [
    "## Hipótese \n",
    "## $h_{\\theta}(y) = x = \\theta_0 + \\theta_1 y + \\theta_2 y^2$\n",
    "\n",
    "\n",
    "## Função de Custo \n",
    "## $J(\\theta) = \\frac{1}{2m} \\sum^m_{i=1} (h_{\\theta} - x)^2 $\n",
    "\n",
    "\n",
    "## Derivadas  \n",
    "## $ \\frac{\\partial}{\\partial \\theta_0} = \\frac{1}{m} \\sum^m_{i=1} (h_{\\theta} - x) \\times 1 $  \n",
    "## $ \\frac{\\partial}{\\partial \\theta_1} = \\frac{1}{m} \\sum^m_{i=1} (h_{\\theta} - x) \\times y $  \n",
    "## $ \\frac{\\partial}{\\partial \\theta_2} = \\frac{1}{m} \\sum^m_{i=1} (h_{\\theta} - x) \\times y^2 $\n",
    "\n",
    "\n",
    "## Atualização dos $\\theta$ \n",
    "## $\\theta_{0} := \\theta_{0} - \\alpha \\frac{1}{m} \\sum^m_{i=1} (h_{\\theta} - x) \\times 1 $ \n",
    "## $\\theta_{1} := \\theta_{1} - \\alpha \\frac{1}{m} \\sum^m_{i=1} (h_{\\theta} - x) \\times y $ \n",
    "## $\\theta_{2} := \\theta_{2} - \\alpha \\frac{1}{m} \\sum^m_{i=1} (h_{\\theta} - x) \\times y^2 $\n",
    "  "
   ],
   "cell_type": "markdown",
   "metadata": {}
  },
  {
   "source": [
    "# Definição da função de regressão\n",
    "O funcionamento é o mesmo da linear, porém, com as equações do modelo descrito logo acima."
   ],
   "cell_type": "markdown",
   "metadata": {}
  },
  {
   "cell_type": "code",
   "execution_count": 93,
   "metadata": {},
   "outputs": [],
   "source": [
    "def PolRegUni(t0A,t1A,t2A,alpha,m,X,Y,Jep):\n",
    "\n",
    "    def h(t0,t1,t2,y):\n",
    "        x = t0 + t1*y + t2*y**2\n",
    "        return x\n",
    "\n",
    "    def Cost(t0,t1,t2,X,Y,m):\n",
    "        soma = 0\n",
    "        for i in range(m):\n",
    "            soma += (h(t0,t1,t2,Y[i]) - X[i])**2\n",
    "        value = (1/(2*m)) * soma\n",
    "        return value\n",
    "\n",
    "    jA = Cost(t0A,t1A,t2A,X,Y,m)\n",
    "\n",
    "    listJ = [jA]\n",
    "    delJ = Jep +1\n",
    "\n",
    "    while(delJ > Jep):\n",
    "\n",
    "        soma = 0\n",
    "        for i in range(m):\n",
    "            soma += (h(t0A,t1A,t2A,Y[i]) - X[i]) * 1\n",
    "        t0N = t0A - (alpha/m) * soma\n",
    "\n",
    "        soma = 0\n",
    "        for i in range(m):\n",
    "            soma += (h(t0A,t1A,t2A,Y[i]) - X[i]) * Y[i]\n",
    "        t1N = t1A - (alpha/m) * soma\n",
    "\n",
    "        soma = 0\n",
    "        for i in range(m):\n",
    "            soma += (h(t0A,t1A,t2A,Y[i]) - X[i]) * Y[i]**2\n",
    "        t2N = t2A - (alpha/m) * soma\n",
    "\n",
    "        jN = Cost(t0N,t1N,t2N,X,Y,m)\n",
    "        listJ.append(jN)\n",
    "\n",
    "        delJ = abs(jN-jA)\n",
    "\n",
    "        t0A = t0N\n",
    "        t1A = t1N\n",
    "        t2A = t2N\n",
    "        jA = jN\n",
    "\n",
    "    newX = []\n",
    "    for i in range(m):\n",
    "        newX.append(h(t0N,t1N,t2N,Y[i]))\n",
    "    \n",
    "    y = 2.1\n",
    "    preX = []\n",
    "    preY = []\n",
    "    while(y>=0):\n",
    "        preX.append(h(t0N,t1N,t2N,y))\n",
    "        preY.append(y)\n",
    "        y-= 0.05\n",
    "\n",
    "    soma = 0\n",
    "    for j in range(m):\n",
    "        soma += (newX[j] - X[j])**2\n",
    "    msr = soma/m\n",
    " \n",
    "    return listJ,newX,preX,preY,msr"
   ]
  },
  {
   "source": [
    "## Com isso, podemos já estudar os comportamentos de X em Y para os dois chutes."
   ],
   "cell_type": "markdown",
   "metadata": {}
  },
  {
   "source": [
    "Importamos os módulos necessários"
   ],
   "cell_type": "markdown",
   "metadata": {}
  },
  {
   "cell_type": "code",
   "execution_count": 94,
   "metadata": {},
   "outputs": [],
   "source": [
    "%matplotlib inline \n",
    "import matplotlib.pyplot as plt\n",
    "import numpy as np"
   ]
  },
  {
   "source": [
    "Carregamos o primeiro chute e separamos seus valores"
   ],
   "cell_type": "markdown",
   "metadata": {}
  },
  {
   "cell_type": "code",
   "execution_count": 95,
   "metadata": {},
   "outputs": [],
   "source": [
    "with open('kick1.dat') as f:\n",
    "    lines = f.readlines()\n",
    "    xyz = np.array([[float(line.split()[0]),float(line.split()[1]),float(line.split()[2])] for line in lines])\n",
    "\n",
    "    X = xyz[:,0]\n",
    "    Y = xyz[:,1]\n",
    "    Z = xyz[:,2]"
   ]
  },
  {
   "source": [
    "Calculamos polinomios através de distintos valores de alpha e imprimimos seus resultados."
   ],
   "cell_type": "markdown",
   "metadata": {}
  },
  {
   "cell_type": "code",
   "execution_count": 96,
   "metadata": {},
   "outputs": [
    {
     "output_type": "error",
     "ename": "SyntaxError",
     "evalue": "invalid syntax (<ipython-input-96-211d4967f3cc>, line 17)",
     "traceback": [
      "\u001b[1;36m  File \u001b[1;32m\"<ipython-input-96-211d4967f3cc>\"\u001b[1;36m, line \u001b[1;32m17\u001b[0m\n\u001b[1;33m    plt.plot(np.arange(len(listJl)), listJl, label= 'alpha= {} / Lin'.format(alpha))\u001b[0m\n\u001b[1;37m    ^\u001b[0m\n\u001b[1;31mSyntaxError\u001b[0m\u001b[1;31m:\u001b[0m invalid syntax\n"
     ]
    }
   ],
   "source": [
    "for alpha in np.linspace(0.05, 0.55, 11):\n",
    "    listJl,newX_yLin,preX_yLin,preY_yLin,msrl = LinRegUni(0,0,alpha,20,X,Y,10**(-6))\n",
    "\n",
    "    if alpha < 0.2:\n",
    "        listJp,newX_yPol,preX_yPol,preY_yPol,msrp = PolRegUni(0,0,0,alpha,20,X,Y,10**(-6))\n",
    "\n",
    "        print(\"Alpha = {}: MSR Lin= {:.6f}, Iter= {} / MSR Pol= {:.6f}, Iter= {}\".format(alpha, msrl, len(listJl), msrp, len(listJp)))\n",
    "\n",
    "        plt.plot(np.arange(len(listJl)), listJl, label= 'alpha= {} / Lin'.format(alpha))\n",
    "        plt.legend()\n",
    "\n",
    "        plt.plot(np.arange(len(listJp)), listJp, label= 'alpha = {} / Pol'.format(alpha))\n",
    "        plt.legend()\n",
    "    else:\n",
    "        print(\"Alpha = {}: MSR Lin= {:.6f}, Iter= {}\".format(alpha, msrl, len(listJl)))\n",
    "\n",
    "        plt.plot(np.arange(len(listJl)), listJl, label= 'alpha= {} / Lin'.format(alpha))\n",
    "        plt.legend()\n",
    "\n",
    "plt.xlim(0, 200)\n",
    "plt.ylim(0, 0.15)\n",
    "plt.show()"
   ]
  }
 ]
}