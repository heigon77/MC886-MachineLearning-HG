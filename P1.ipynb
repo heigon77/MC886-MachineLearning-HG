{
 "metadata": {
  "language_info": {
   "codemirror_mode": {
    "name": "ipython",
    "version": 3
   },
   "file_extension": ".py",
   "mimetype": "text/x-python",
   "name": "python",
   "nbconvert_exporter": "python",
   "pygments_lexer": "ipython3",
   "version": "3.8.5"
  },
  "orig_nbformat": 2,
  "kernelspec": {
   "name": "python385jvsc74a57bd0916dbcbb3f70747c44a77c7bcd40155683ae19c65e1c03b4aa3499c5328201f1",
   "display_name": "Python 3.8.5 64-bit"
  },
  "metadata": {
   "interpreter": {
    "hash": "916dbcbb3f70747c44a77c7bcd40155683ae19c65e1c03b4aa3499c5328201f1"
   }
  }
 },
 "nbformat": 4,
 "nbformat_minor": 2,
 "cells": [
  {
   "source": [
    "# Imports"
   ],
   "cell_type": "markdown",
   "metadata": {}
  },
  {
   "cell_type": "code",
   "execution_count": null,
   "metadata": {},
   "outputs": [],
   "source": [
    "%matplotlib inline \n",
    "import matplotlib.pyplot as plt\n",
    "import numpy as np\n",
    "import itertools\n",
    "import collections\n",
    "import queue\n",
    "import scipy.io as spio"
   ]
  },
  {
   "source": [
    "# Make Blobs"
   ],
   "cell_type": "markdown",
   "metadata": {}
  },
  {
   "cell_type": "code",
   "execution_count": null,
   "metadata": {},
   "outputs": [],
   "source": [
    "from sklearn.datasets import make_blobs\n",
    "X, y_true = make_blobs(n_samples=300, centers=4,\n",
    "                       cluster_std=0.60, random_state=0)\n",
    "plt.scatter(X[:, 0], X[:, 1], s=50)"
   ]
  },
  {
   "source": [
    "# Função aLabel"
   ],
   "cell_type": "markdown",
   "metadata": {}
  },
  {
   "cell_type": "code",
   "execution_count": null,
   "metadata": {},
   "outputs": [],
   "source": [
    "def aLabel(X, centers):\n",
    "    dist = np.array([[np.sqrt(np.square(x[0]-y[0]) + np.square(x[1]-y[1])) for x in centers] for y in X])\n",
    "    \n",
    "    mins = np.array([m.min() for m in dist]).T\n",
    "\n",
    "    labs = np.array([np.where(mins[i] == dist[i]) for i in range(len(mins))]).T\n",
    "\n",
    "    return labs[0][0]"
   ]
  },
  {
   "source": [
    "# K-means"
   ],
   "cell_type": "markdown",
   "metadata": {}
  },
  {
   "cell_type": "code",
   "execution_count": null,
   "metadata": {
    "tags": []
   },
   "outputs": [],
   "source": [
    "\n",
    "def Kmeans(X, n_clusters):\n",
    "    # 1. Randomly choose clusters\n",
    "    solving = True \n",
    "    rng = np.random.RandomState(2)\n",
    "    i = rng.permutation(X.shape[0])[:n_clusters]\n",
    "    centers = X[i]\n",
    "    \n",
    "    while solving:\n",
    "        # 2a. Assign labels based on closest center\n",
    "        labels = aLabel(X, centers)\n",
    "        \n",
    "        # 2b. Find new centers from means of points\n",
    "        new_centers = np.array([X[labels == i].mean(0)\n",
    "                                for i in range(n_clusters)])\n",
    "        \n",
    "        # 2c. Check for convergence\n",
    "        if np.all(centers == new_centers):\n",
    "            solving = False\n",
    "        centers = new_centers\n",
    "    \n",
    "    return centers, labels\n",
    "\n",
    "centers, labels = Kmeans(X, 4)\n",
    "plt.scatter(X[:, 0], X[:, 1], c=labels,\n",
    "            s=50, cmap='viridis');"
   ]
  },
  {
   "cell_type": "code",
   "execution_count": null,
   "metadata": {},
   "outputs": [],
   "source": [
    "with open('cluster.dat') as f:\n",
    "    lines = f.readlines()\n",
    "    xy = np.array([[float(line.split()[0]) for line in lines][float(line.split()[1]) for line in lines]])\n",
    "\n",
    "xy"
   ]
  },
  {
   "source": [
    "# Lendo cluster.dat"
   ],
   "cell_type": "markdown",
   "metadata": {}
  },
  {
   "cell_type": "code",
   "execution_count": null,
   "metadata": {},
   "outputs": [],
   "source": [
    "xy =[]\n",
    "with open('cluster.dat') as f:\n",
    "    lines = f.readlines()\n",
    "    for line in lines:\n",
    "        aux = [float(line.split()[0]) * 0.01,float(line.split()[1])]\n",
    "        xy.append(aux)\n",
    "\n",
    "    \n",
    "Points = np.array(xy)"
   ]
  },
  {
   "source": [
    "# Plotando cluster.dat"
   ],
   "cell_type": "markdown",
   "metadata": {}
  },
  {
   "cell_type": "code",
   "execution_count": null,
   "metadata": {},
   "outputs": [],
   "source": [
    "plt.scatter(Points[:, 0], Points[:, 1], s=50)"
   ]
  },
  {
   "source": [
    "# Kmeans no cluster.dat"
   ],
   "cell_type": "markdown",
   "metadata": {}
  },
  {
   "cell_type": "code",
   "execution_count": null,
   "metadata": {
    "tags": []
   },
   "outputs": [],
   "source": [
    "centers, labels = Kmeans(Points, 3)\n",
    "plt.scatter(Points[:, 0], Points[:, 1], c=labels,\n",
    "            s=50, cmap='viridis')"
   ]
  },
  {
   "cell_type": "code",
   "execution_count": null,
   "metadata": {},
   "outputs": [],
   "source": [
    "for k in range(1,9):\n",
    "    centers, labels = find_clusters(Points, k)\n",
    "    plt.scatter(Points[:, 0], Points[:, 1], c=labels,s=50, cmap='viridis')\n",
    "    plt.show()\n",
    "    z = list(range(k))\n",
    "    for p in range(0,k):\n",
    "        if()\n",
    "        dist = np.array([[np.sqrt(np.square(x[0]-y[0]) + np.square(x[1]-y[1])) for x in centers] for y in X])\n",
    "    temp_epsilon[i] = sum(z) "
   ]
  },
  {
   "source": [
    "# Função para encontrar pontos vizinhos"
   ],
   "cell_type": "markdown",
   "metadata": {}
  },
  {
   "cell_type": "code",
   "execution_count": null,
   "metadata": {},
   "outputs": [],
   "source": [
    "\n",
    "\n",
    "\n",
    "def neighbor_points(data, pointId, radius):\n",
    "    points = []\n",
    "    for i in range(len(data)):\n",
    "        if np.linalg.norm(data[i] - data[pointId]) <= radius:\n",
    "            points.append(i)\n",
    "    return points"
   ]
  },
  {
   "source": [
    "# Implementação DBScan"
   ],
   "cell_type": "markdown",
   "metadata": {}
  },
  {
   "cell_type": "code",
   "execution_count": null,
   "metadata": {},
   "outputs": [],
   "source": [
    "\n",
    "def dbscan(data, Eps, MinPt):\n",
    "\n",
    "    core = -1\n",
    "    edge = -2\n",
    "    pointlabel  = [0] * len(data)\n",
    "    pointcount = []\n",
    "    corepoint=[]\n",
    "    noncore=[]\n",
    "    \n",
    "    for i in range(len(data)):\n",
    "        pointcount.append(neighbor_points(Points,i,Eps))\n",
    "    \n",
    "    for i in range(len(pointcount)):\n",
    "        if (len(pointcount[i])>=MinPt):\n",
    "            pointlabel[i]=core\n",
    "            corepoint.append(i)\n",
    "        else:\n",
    "            noncore.append(i)\n",
    "\n",
    "    for i in noncore:\n",
    "        for j in pointcount[i]:\n",
    "            if j in corepoint:\n",
    "                pointlabel[i]=edge\n",
    "                break\n",
    "            \n",
    "    cl = 1\n",
    "    for i in range(len(pointlabel)):\n",
    "        q = queue.Queue()\n",
    "        if (pointlabel[i] == core):\n",
    "            pointlabel[i] = cl\n",
    "            for x in pointcount[i]:\n",
    "                if(pointlabel[x]==core):\n",
    "                    q.put(x)\n",
    "                    pointlabel[x]=cl\n",
    "                elif(pointlabel[x]==edge):\n",
    "                    pointlabel[x]=cl \n",
    "            while not q.empty():\n",
    "                neighbors = pointcount[q.get()]\n",
    "                for y in neighbors:\n",
    "                    if (pointlabel[y]==core):\n",
    "                        pointlabel[y]=cl\n",
    "                        q.put(y)\n",
    "                    if (pointlabel[y]==edge):\n",
    "                        pointlabel[y]=cl            \n",
    "            cl=cl+1\n",
    "           \n",
    "    return pointlabel,cl"
   ]
  },
  {
   "source": [
    "# Função para plotar DBScan bonito"
   ],
   "cell_type": "markdown",
   "metadata": {}
  },
  {
   "cell_type": "code",
   "execution_count": null,
   "metadata": {},
   "outputs": [],
   "source": [
    "def plotRes(data, clusterRes, clusterNum):\n",
    "    nPoints = len(data)\n",
    "    scatterColors = ['black', 'green', 'brown', 'red', 'purple', 'orange', 'yellow']\n",
    "    for i in range(clusterNum):\n",
    "        if (i==0):\n",
    "            color='blue'\n",
    "        else:\n",
    "            color = scatterColors[i % len(scatterColors)]\n",
    "        x1 = [];  y1 = []\n",
    "        for j in range(nPoints):\n",
    "            if clusterRes[j] == i:\n",
    "                x1.append(data[j, 0])\n",
    "                y1.append(data[j, 1])\n",
    "        plt.scatter(x1, y1, c=color, alpha=1, marker='.')"
   ]
  },
  {
   "source": [
    "# Vários DBScan rodando"
   ],
   "cell_type": "markdown",
   "metadata": {}
  },
  {
   "cell_type": "code",
   "execution_count": null,
   "metadata": {},
   "outputs": [],
   "source": [
    "epss = 10\n",
    "minptss = 10\n",
    "\n",
    "for eps in range(epss):\n",
    "    for minpts in range(minptss):\n",
    "        print('Set eps\u000f = ' +str(eps)+ ', Minpoints = '+str(minpts))\n",
    "        pointlabel,cl = dbscan(Points,eps,minpts)\n",
    "        plotRes(Points, pointlabel, cl)\n",
    "        plt.show()\n",
    "        print('number of cluster found: ' + str(cl-1))\n",
    "        counter=collections.Counter(pointlabel)\n",
    "        print(counter)\n",
    "        outliers  = pointlabel.count(0)\n",
    "        print('numbrer of outliers found: '+str(outliers) +'\\n')"
   ]
  },
  {
   "cell_type": "code",
   "execution_count": null,
   "metadata": {},
   "outputs": [],
   "source": []
  }
 ]
}