{
 "metadata": {
  "language_info": {
   "codemirror_mode": {
    "name": "ipython",
    "version": 3
   },
   "file_extension": ".py",
   "mimetype": "text/x-python",
   "name": "python",
   "nbconvert_exporter": "python",
   "pygments_lexer": "ipython3",
   "version": "3.8.5"
  },
  "orig_nbformat": 2,
  "kernelspec": {
   "name": "python385jvsc74a57bd0916dbcbb3f70747c44a77c7bcd40155683ae19c65e1c03b4aa3499c5328201f1",
   "display_name": "Python 3.8.5 64-bit"
  },
  "metadata": {
   "interpreter": {
    "hash": "916dbcbb3f70747c44a77c7bcd40155683ae19c65e1c03b4aa3499c5328201f1"
   }
  }
 },
 "nbformat": 4,
 "nbformat_minor": 2,
 "cells": [
  {
   "cell_type": "code",
   "execution_count": null,
   "metadata": {},
   "outputs": [],
   "source": [
    "%matplotlib inline \n",
    "import matplotlib.pyplot as plt\n",
    "import numpy as np\n",
    "import itertools\n",
    "import collections\n",
    "import queue\n",
    "import scipy.io as spio"
   ]
  },
  {
   "cell_type": "code",
   "execution_count": null,
   "metadata": {},
   "outputs": [],
   "source": [
    "from sklearn.datasets import make_blobs\n",
    "X, y_true = make_blobs(n_samples=300, centers=4,\n",
    "                       cluster_std=0.60, random_state=0)\n",
    "plt.scatter(X[:, 0], X[:, 1], s=50)"
   ]
  },
  {
   "cell_type": "code",
   "execution_count": null,
   "metadata": {},
   "outputs": [],
   "source": [
    "from sklearn.metrics import pairwise_distances_argmin\n",
    "\n",
    "def find_clusters(X, n_clusters, rseed=2):\n",
    "    # 1. Randomly choose clusters\n",
    "    rng = np.random.RandomState(rseed)\n",
    "    i = rng.permutation(X.shape[0])[:n_clusters]\n",
    "    centers = X[i]\n",
    "    \n",
    "    while True:\n",
    "        # 2a. Assign labels based on closest center\n",
    "        labels = pairwise_distances_argmin(X, centers)\n",
    "        \n",
    "        # 2b. Find new centers from means of points\n",
    "        new_centers = np.array([X[labels == i].mean(0)\n",
    "                                for i in range(n_clusters)])\n",
    "        \n",
    "        # 2c. Check for convergence\n",
    "        if np.all(centers == new_centers):\n",
    "            break\n",
    "        centers = new_centers\n",
    "    \n",
    "    return centers, labels\n",
    "\n",
    "centers, labels = find_clusters(X, 4)\n",
    "plt.scatter(X[:, 0], X[:, 1], c=labels,\n",
    "            s=50, cmap='viridis');"
   ]
  },
  {
   "cell_type": "code",
   "execution_count": null,
   "metadata": {},
   "outputs": [],
   "source": [
    "with open('cluster.dat') as f:\n",
    "    lines = f.readlines()\n",
    "    x = [float(line.split()[0]) for line in lines]\n",
    "    y = [float(line.split()[1]) for line in lines]\n",
    "plt.plot(x, y,'ob')\n",
    "plt.show()"
   ]
  },
  {
   "cell_type": "code",
   "execution_count": null,
   "metadata": {},
   "outputs": [],
   "source": [
    "\n",
    "xy =[]\n",
    "with open('cluster.dat') as f:\n",
    "    lines = f.readlines()\n",
    "    for line in lines:\n",
    "        aux = [float(line.split()[0]) * 0.01,float(line.split()[1])]\n",
    "        xy.append(aux)\n",
    "\n",
    "    \n",
    "Points = np.array(xy)\n",
    "print(Points)\n",
    "Points"
   ]
  },
  {
   "cell_type": "code",
   "execution_count": null,
   "metadata": {},
   "outputs": [],
   "source": [
    "plt.scatter(Points[:, 0], Points[:, 1], s=50)"
   ]
  },
  {
   "cell_type": "code",
   "execution_count": null,
   "metadata": {},
   "outputs": [],
   "source": [
    "centers, labels = find_clusters(Points, 3)\n",
    "plt.scatter(Points[:, 0], Points[:, 1], c=labels,\n",
    "            s=50, cmap='viridis')"
   ]
  },
  {
   "cell_type": "code",
   "execution_count": null,
   "metadata": {},
   "outputs": [],
   "source": [
    "\n",
    "def find_clusters(X, n_clusters, rseed=2):\n",
    "    # 1. Randomly choose clusters\n",
    "    rng = np.random.RandomState(rseed)\n",
    "    i = rng.permutation(X.shape[0])[:n_clusters]\n",
    "    centers = X[i]\n",
    "    \n",
    "    while True:\n",
    "        # 2a. Assign labels based on closest center\n",
    "        labels = pairwise_distances_argmin(X, centers)\n",
    "        \n",
    "        # 2b. Find new centers from means of points\n",
    "        new_centers = np.array([X[labels == i].mean(0)\n",
    "                                for i in range(n_clusters)])\n",
    "        \n",
    "        # 2c. Check for convergence\n",
    "        if np.all(centers == new_centers):\n",
    "            break\n",
    "        centers = new_centers\n",
    "    \n",
    "    return centers, labels\n",
    "\n",
    "centers, labels = find_clusters(X, 4)\n",
    "plt.scatter(X[:, 0], X[:, 1], c=labels,\n",
    "            s=50, cmap='viridis')"
   ]
  },
  {
   "cell_type": "code",
   "execution_count": null,
   "metadata": {},
   "outputs": [],
   "source": [
    "\n",
    "score=-1\n",
    "edge=-2\n",
    "\n",
    "def neighbor_points(data, pointId, radius):\n",
    "    points = []\n",
    "    for i in range(len(data)):\n",
    "        if np.linalg.norm(data[i] - data[pointId]) <= radius:\n",
    "            points.append(i)\n",
    "    return points"
   ]
  },
  {
   "cell_type": "code",
   "execution_count": null,
   "metadata": {},
   "outputs": [],
   "source": [
    "def dbscan(data, Eps, MinPt):\n",
    "\n",
    "    pointlabel  = [0] * len(data)\n",
    "    pointcount = []\n",
    "    corepoint=[]\n",
    "    noncore=[]\n",
    "    \n",
    "    for i in range(len(data)):\n",
    "        pointcount.append(neighbor_points(Points,i,Eps))\n",
    "    \n",
    "    for i in range(len(pointcount)):\n",
    "        if (len(pointcount[i])>=MinPt):\n",
    "            pointlabel[i]=core\n",
    "            corepoint.append(i)\n",
    "        else:\n",
    "            noncore.append(i)\n",
    "\n",
    "    for i in noncore:\n",
    "        for j in pointcount[i]:\n",
    "            if j in corepoint:\n",
    "                pointlabel[i]=edge\n",
    "                break\n",
    "            \n",
    "    cl = 1\n",
    "    for i in range(len(pointlabel)):\n",
    "        q = queue.Queue()\n",
    "        if (pointlabel[i] == core):\n",
    "            pointlabel[i] = cl\n",
    "            for x in pointcount[i]:\n",
    "                if(pointlabel[x]==core):\n",
    "                    q.put(x)\n",
    "                    pointlabel[x]=cl\n",
    "                elif(pointlabel[x]==edge):\n",
    "                    pointlabel[x]=cl \n",
    "            while not q.empty():\n",
    "                neighbors = pointcount[q.get()]\n",
    "                for y in neighbors:\n",
    "                    if (pointlabel[y]==core):\n",
    "                        pointlabel[y]=cl\n",
    "                        q.put(y)\n",
    "                    if (pointlabel[y]==edge):\n",
    "                        pointlabel[y]=cl            \n",
    "            cl=cl+1\n",
    "           \n",
    "    return pointlabel,cl"
   ]
  },
  {
   "cell_type": "code",
   "execution_count": null,
   "metadata": {},
   "outputs": [],
   "source": [
    "def plotRes(data, clusterRes, clusterNum):\n",
    "    nPoints = len(data)\n",
    "    scatterColors = ['black', 'green', 'brown', 'red', 'purple', 'orange', 'yellow']\n",
    "    for i in range(clusterNum):\n",
    "        if (i==0):\n",
    "            color='blue'\n",
    "        else:\n",
    "            color = scatterColors[i % len(scatterColors)]\n",
    "        x1 = [];  y1 = []\n",
    "        for j in range(nPoints):\n",
    "            if clusterRes[j] == i:\n",
    "                x1.append(data[j, 0])\n",
    "                y1.append(data[j, 1])\n",
    "        plt.scatter(x1, y1, c=color, alpha=1, marker='.')"
   ]
  },
  {
   "cell_type": "code",
   "execution_count": null,
   "metadata": {},
   "outputs": [],
   "source": [
    "epss = 10\n",
    "minptss = 10\n",
    "\n",
    "for eps in range(epss):\n",
    "    for minpts in range(minptss):\n",
    "        print('Set eps\u000f = ' +str(eps)+ ', Minpoints = '+str(minpts))\n",
    "        pointlabel,cl = dbscan(Points,eps,minpts)\n",
    "        plotRes(Points, pointlabel, cl)\n",
    "        plt.show()\n",
    "        print('number of cluster found: ' + str(cl-1))\n",
    "        counter=collections.Counter(pointlabel)\n",
    "        print(counter)\n",
    "        outliers  = pointlabel.count(0)\n",
    "        print('numbrer of outliers found: '+str(outliers) +'\\n')"
   ]
  },
  {
   "cell_type": "code",
   "execution_count": null,
   "metadata": {},
   "outputs": [],
   "source": []
  }
 ]
}